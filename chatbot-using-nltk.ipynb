{
 "cells": [
  {
   "cell_type": "markdown",
   "id": "21c447d9",
   "metadata": {
    "papermill": {
     "duration": 0.011127,
     "end_time": "2023-02-21T10:33:53.871374",
     "exception": false,
     "start_time": "2023-02-21T10:33:53.860247",
     "status": "completed"
    },
    "tags": []
   },
   "source": [
    "# AI – Chatbot\n",
    "Description:\n",
    "\n",
    "In this Project you need to build a corpus-based conversational chatbot using\n",
    "NLTK and python. Please have a look at the tutorial provided at url:\n",
    "https://medium.com/swlh/a-chatbot-in-python-using-nltk-938a37a9eacc for guidance\n",
    "and ideas.\n",
    "You need to perform the following tasks:\n",
    "1. Use the dataset provided in the tutorial or develop your own dataset with\n",
    "similar structure.\n",
    "2. Perform text normalization: convert text to lower case, remove special\n",
    "characters, and perform lemmatization. Remove any stopwords.\n",
    "3. Use word embeddings such as: bag of words and TF-IDF, and compute\n",
    "cosine similarity.\n",
    "4. Compare the performance and results of the two methods, i.e., bag of words\n",
    "and TF-IDF.\n",
    "5. Customize using any of the NLP techniques we have learned."
   ]
  },
  {
   "cell_type": "markdown",
   "id": "66babad3",
   "metadata": {
    "papermill": {
     "duration": 0.009099,
     "end_time": "2023-02-21T10:33:53.890283",
     "exception": false,
     "start_time": "2023-02-21T10:33:53.881184",
     "status": "completed"
    },
    "tags": []
   },
   "source": [
    "# Import necessary dependencies "
   ]
  },
  {
   "cell_type": "code",
   "execution_count": 1,
   "id": "d34e2853",
   "metadata": {
    "execution": {
     "iopub.execute_input": "2023-02-21T10:33:53.913447Z",
     "iopub.status.busy": "2023-02-21T10:33:53.912431Z",
     "iopub.status.idle": "2023-02-21T10:33:56.192566Z",
     "shell.execute_reply": "2023-02-21T10:33:56.191320Z"
    },
    "papermill": {
     "duration": 2.294863,
     "end_time": "2023-02-21T10:33:56.195265",
     "exception": false,
     "start_time": "2023-02-21T10:33:53.900402",
     "status": "completed"
    },
    "tags": []
   },
   "outputs": [
    {
     "name": "stderr",
     "output_type": "stream",
     "text": [
      "[nltk_data] Error loading omw-1.4: <urlopen error [WinError 10060] A\n",
      "[nltk_data]     connection attempt failed because the connected party\n",
      "[nltk_data]     did not properly respond after a period of time, or\n",
      "[nltk_data]     established connection failed because connected host\n",
      "[nltk_data]     has failed to respond>\n"
     ]
    },
    {
     "data": {
      "text/plain": [
       "False"
      ]
     },
     "execution_count": 1,
     "metadata": {},
     "output_type": "execute_result"
    }
   ],
   "source": [
    "import pandas as pd\n",
    "import nltk\n",
    "import numpy as np\n",
    "import re  #regular expressions\n",
    "from nltk.stem import wordnet  # for lemmatization\n",
    "from sklearn.feature_extraction.text import CountVectorizer  # for bag of words (bow)\n",
    "from sklearn.feature_extraction.text import TfidfVectorizer  #for tfidf\n",
    "from nltk import pos_tag  # for parts of speech\n",
    "from sklearn.metrics import pairwise_distances  # cosine similarity\n",
    "from nltk import word_tokenize\n",
    "from nltk.corpus import stopwords \n",
    "nltk.download('omw-1.4')  # this seems to be a requirement for the .apply() function to work "
   ]
  },
  {
   "cell_type": "markdown",
   "id": "0ef84afc",
   "metadata": {
    "papermill": {
     "duration": 0.011307,
     "end_time": "2023-02-21T10:33:56.216155",
     "exception": false,
     "start_time": "2023-02-21T10:33:56.204848",
     "status": "completed"
    },
    "tags": []
   },
   "source": [
    "# Choose dataset and read it into a data frame"
   ]
  },
  {
   "cell_type": "code",
   "execution_count": 2,
   "id": "43e16c16",
   "metadata": {
    "execution": {
     "iopub.execute_input": "2023-02-21T10:33:56.237738Z",
     "iopub.status.busy": "2023-02-21T10:33:56.236880Z",
     "iopub.status.idle": "2023-02-21T10:33:56.252417Z",
     "shell.execute_reply": "2023-02-21T10:33:56.251178Z"
    },
    "papermill": {
     "duration": 0.028975,
     "end_time": "2023-02-21T10:33:56.254772",
     "exception": false,
     "start_time": "2023-02-21T10:33:56.225797",
     "status": "completed"
    },
    "tags": []
   },
   "outputs": [],
   "source": [
    "#check what files are available after adding the database manually\n",
    "import os\n",
    "for dirname, _, filenames in os.walk('/kaggle/input'):\n",
    "    for filename in filenames:\n",
    "        print(os.path.join(dirname, filename))"
   ]
  },
  {
   "cell_type": "code",
   "execution_count": 3,
   "id": "bb51b1ce",
   "metadata": {
    "execution": {
     "iopub.execute_input": "2023-02-21T10:33:56.276568Z",
     "iopub.status.busy": "2023-02-21T10:33:56.275897Z",
     "iopub.status.idle": "2023-02-21T10:33:56.751797Z",
     "shell.execute_reply": "2023-02-21T10:33:56.750578Z"
    },
    "papermill": {
     "duration": 0.489684,
     "end_time": "2023-02-21T10:33:56.754124",
     "exception": false,
     "start_time": "2023-02-21T10:33:56.264440",
     "status": "completed"
    },
    "tags": []
   },
   "outputs": [
    {
     "data": {
      "text/html": [
       "<div>\n",
       "<style scoped>\n",
       "    .dataframe tbody tr th:only-of-type {\n",
       "        vertical-align: middle;\n",
       "    }\n",
       "\n",
       "    .dataframe tbody tr th {\n",
       "        vertical-align: top;\n",
       "    }\n",
       "\n",
       "    .dataframe thead th {\n",
       "        text-align: right;\n",
       "    }\n",
       "</style>\n",
       "<table border=\"1\" class=\"dataframe\">\n",
       "  <thead>\n",
       "    <tr style=\"text-align: right;\">\n",
       "      <th></th>\n",
       "      <th>Context</th>\n",
       "      <th>Text Response</th>\n",
       "    </tr>\n",
       "  </thead>\n",
       "  <tbody>\n",
       "    <tr>\n",
       "      <th>0</th>\n",
       "      <td>Tell me about your personality</td>\n",
       "      <td>Just think of me as the ace up your sleeve.</td>\n",
       "    </tr>\n",
       "    <tr>\n",
       "      <th>1</th>\n",
       "      <td>I want to know you better</td>\n",
       "      <td>I can help you work smarter instead of harder</td>\n",
       "    </tr>\n",
       "    <tr>\n",
       "      <th>2</th>\n",
       "      <td>Define yourself</td>\n",
       "      <td>NaN</td>\n",
       "    </tr>\n",
       "    <tr>\n",
       "      <th>3</th>\n",
       "      <td>Describe yourself</td>\n",
       "      <td>NaN</td>\n",
       "    </tr>\n",
       "    <tr>\n",
       "      <th>4</th>\n",
       "      <td>tell me about yourself</td>\n",
       "      <td>NaN</td>\n",
       "    </tr>\n",
       "  </tbody>\n",
       "</table>\n",
       "</div>"
      ],
      "text/plain": [
       "                          Context  \\\n",
       "0  Tell me about your personality   \n",
       "1       I want to know you better   \n",
       "2                 Define yourself   \n",
       "3               Describe yourself   \n",
       "4          tell me about yourself   \n",
       "\n",
       "                                   Text Response  \n",
       "0    Just think of me as the ace up your sleeve.  \n",
       "1  I can help you work smarter instead of harder  \n",
       "2                                            NaN  \n",
       "3                                            NaN  \n",
       "4                                            NaN  "
      ]
     },
     "execution_count": 3,
     "metadata": {},
     "output_type": "execute_result"
    }
   ],
   "source": [
    "df1= pd.read_excel('dialog_talk_agent.xlsx')  # read the database into a data frame\n",
    "df1.head()  # see first 5 lines"
   ]
  },
  {
   "cell_type": "markdown",
   "id": "110b4644",
   "metadata": {
    "papermill": {
     "duration": 0.009581,
     "end_time": "2023-02-21T10:33:56.773754",
     "exception": false,
     "start_time": "2023-02-21T10:33:56.764173",
     "status": "completed"
    },
    "tags": []
   },
   "source": [
    "Why not add another dataset?"
   ]
  },
  {
   "cell_type": "code",
   "execution_count": 4,
   "id": "1ddbe966",
   "metadata": {
    "execution": {
     "iopub.execute_input": "2023-02-21T10:33:56.795471Z",
     "iopub.status.busy": "2023-02-21T10:33:56.794849Z",
     "iopub.status.idle": "2023-02-21T10:33:58.349745Z",
     "shell.execute_reply": "2023-02-21T10:33:58.348578Z"
    },
    "papermill": {
     "duration": 1.568579,
     "end_time": "2023-02-21T10:33:58.352230",
     "exception": false,
     "start_time": "2023-02-21T10:33:56.783651",
     "status": "completed"
    },
    "tags": []
   },
   "outputs": [
    {
     "data": {
      "text/html": [
       "<div>\n",
       "<style scoped>\n",
       "    .dataframe tbody tr th:only-of-type {\n",
       "        vertical-align: middle;\n",
       "    }\n",
       "\n",
       "    .dataframe tbody tr th {\n",
       "        vertical-align: top;\n",
       "    }\n",
       "\n",
       "    .dataframe thead th {\n",
       "        text-align: right;\n",
       "    }\n",
       "</style>\n",
       "<table border=\"1\" class=\"dataframe\">\n",
       "  <thead>\n",
       "    <tr style=\"text-align: right;\">\n",
       "      <th></th>\n",
       "      <th>viewed_doc_titles</th>\n",
       "      <th>used_queries</th>\n",
       "      <th>annotations</th>\n",
       "      <th>nq_answer</th>\n",
       "      <th>id</th>\n",
       "      <th>nq_doc_title</th>\n",
       "      <th>question</th>\n",
       "    </tr>\n",
       "  </thead>\n",
       "  <tbody>\n",
       "    <tr>\n",
       "      <th>0</th>\n",
       "      <td>[The Simpsons]</td>\n",
       "      <td>[{'query': 'When did the simpsons first air on...</td>\n",
       "      <td>[{'type': 'multipleQAs', 'qaPairs': [{'questio...</td>\n",
       "      <td>[December 17 , 1989]</td>\n",
       "      <td>-4469503464110108160</td>\n",
       "      <td>The Simpsons</td>\n",
       "      <td>When did the simpsons first air on television?</td>\n",
       "    </tr>\n",
       "    <tr>\n",
       "      <th>1</th>\n",
       "      <td>[John Adams (miniseries)]</td>\n",
       "      <td>[{'query': 'John adams tv', 'results': [{'titl...</td>\n",
       "      <td>[{'type': 'singleAnswer', 'answer': ['David Mo...</td>\n",
       "      <td>[David Morse]</td>\n",
       "      <td>4790842463458965504</td>\n",
       "      <td>John Adams (miniseries)</td>\n",
       "      <td>Who played george washington in the john adams...</td>\n",
       "    </tr>\n",
       "    <tr>\n",
       "      <th>2</th>\n",
       "      <td>[Marriage age in the United States]</td>\n",
       "      <td>[{'query': 'legal age of marriage in usa', 're...</td>\n",
       "      <td>[{'type': 'multipleQAs', 'qaPairs': [{'questio...</td>\n",
       "      <td>[18, Nebraska ( 19 ), Mississippi ( 21 )]</td>\n",
       "      <td>-6631915997977101312</td>\n",
       "      <td>Age of marriage in the United States</td>\n",
       "      <td>What is the legal age of marriage in usa?</td>\n",
       "    </tr>\n",
       "    <tr>\n",
       "      <th>3</th>\n",
       "      <td>[Barefoot in the Park, Barefoot in the Park (f...</td>\n",
       "      <td>[{'query': 'Who starred in barefoot in the par...</td>\n",
       "      <td>[{'type': 'multipleQAs', 'qaPairs': [{'questio...</td>\n",
       "      <td>[Robert Redford, Elizabeth Ashley]</td>\n",
       "      <td>-3098213414945179648</td>\n",
       "      <td>Barefoot in the Park</td>\n",
       "      <td>Who starred in barefoot in the park on broadway?</td>\n",
       "    </tr>\n",
       "    <tr>\n",
       "      <th>4</th>\n",
       "      <td>[Timeline of the Manhattan Project, Manhattan ...</td>\n",
       "      <td>[{'query': 'When did the manhattan project beg...</td>\n",
       "      <td>[{'type': 'multipleQAs', 'qaPairs': [{'questio...</td>\n",
       "      <td>[From 1942 to 1946]</td>\n",
       "      <td>-927805218867163520</td>\n",
       "      <td>Timeline of the Manhattan Project</td>\n",
       "      <td>When did the manhattan project began and end?</td>\n",
       "    </tr>\n",
       "  </tbody>\n",
       "</table>\n",
       "</div>"
      ],
      "text/plain": [
       "                                   viewed_doc_titles  \\\n",
       "0                                     [The Simpsons]   \n",
       "1                          [John Adams (miniseries)]   \n",
       "2                [Marriage age in the United States]   \n",
       "3  [Barefoot in the Park, Barefoot in the Park (f...   \n",
       "4  [Timeline of the Manhattan Project, Manhattan ...   \n",
       "\n",
       "                                        used_queries  \\\n",
       "0  [{'query': 'When did the simpsons first air on...   \n",
       "1  [{'query': 'John adams tv', 'results': [{'titl...   \n",
       "2  [{'query': 'legal age of marriage in usa', 're...   \n",
       "3  [{'query': 'Who starred in barefoot in the par...   \n",
       "4  [{'query': 'When did the manhattan project beg...   \n",
       "\n",
       "                                         annotations  \\\n",
       "0  [{'type': 'multipleQAs', 'qaPairs': [{'questio...   \n",
       "1  [{'type': 'singleAnswer', 'answer': ['David Mo...   \n",
       "2  [{'type': 'multipleQAs', 'qaPairs': [{'questio...   \n",
       "3  [{'type': 'multipleQAs', 'qaPairs': [{'questio...   \n",
       "4  [{'type': 'multipleQAs', 'qaPairs': [{'questio...   \n",
       "\n",
       "                                   nq_answer                   id  \\\n",
       "0                       [December 17 , 1989] -4469503464110108160   \n",
       "1                              [David Morse]  4790842463458965504   \n",
       "2  [18, Nebraska ( 19 ), Mississippi ( 21 )] -6631915997977101312   \n",
       "3         [Robert Redford, Elizabeth Ashley] -3098213414945179648   \n",
       "4                        [From 1942 to 1946]  -927805218867163520   \n",
       "\n",
       "                           nq_doc_title  \\\n",
       "0                          The Simpsons   \n",
       "1               John Adams (miniseries)   \n",
       "2  Age of marriage in the United States   \n",
       "3                  Barefoot in the Park   \n",
       "4     Timeline of the Manhattan Project   \n",
       "\n",
       "                                            question  \n",
       "0     When did the simpsons first air on television?  \n",
       "1  Who played george washington in the john adams...  \n",
       "2          What is the legal age of marriage in usa?  \n",
       "3   Who starred in barefoot in the park on broadway?  \n",
       "4      When did the manhattan project began and end?  "
      ]
     },
     "execution_count": 4,
     "metadata": {},
     "output_type": "execute_result"
    }
   ],
   "source": [
    "df2= pd.read_json('train.json')  # read the database into a data frame\n",
    "df2.head()  # see first 5 lines"
   ]
  },
  {
   "cell_type": "markdown",
   "id": "1ac3031e",
   "metadata": {
    "papermill": {
     "duration": 0.009707,
     "end_time": "2023-02-21T10:33:58.372064",
     "exception": false,
     "start_time": "2023-02-21T10:33:58.362357",
     "status": "completed"
    },
    "tags": []
   },
   "source": [
    "Now, let's make this dataset look similar to our original one, it is: two columns with the same headings"
   ]
  },
  {
   "cell_type": "code",
   "execution_count": 5,
   "id": "8b87e306",
   "metadata": {
    "execution": {
     "iopub.execute_input": "2023-02-21T10:33:58.394676Z",
     "iopub.status.busy": "2023-02-21T10:33:58.394232Z",
     "iopub.status.idle": "2023-02-21T10:33:58.418324Z",
     "shell.execute_reply": "2023-02-21T10:33:58.417035Z"
    },
    "papermill": {
     "duration": 0.0386,
     "end_time": "2023-02-21T10:33:58.420794",
     "exception": false,
     "start_time": "2023-02-21T10:33:58.382194",
     "status": "completed"
    },
    "tags": []
   },
   "outputs": [
    {
     "data": {
      "text/html": [
       "<div>\n",
       "<style scoped>\n",
       "    .dataframe tbody tr th:only-of-type {\n",
       "        vertical-align: middle;\n",
       "    }\n",
       "\n",
       "    .dataframe tbody tr th {\n",
       "        vertical-align: top;\n",
       "    }\n",
       "\n",
       "    .dataframe thead th {\n",
       "        text-align: right;\n",
       "    }\n",
       "</style>\n",
       "<table border=\"1\" class=\"dataframe\">\n",
       "  <thead>\n",
       "    <tr style=\"text-align: right;\">\n",
       "      <th></th>\n",
       "      <th>Context</th>\n",
       "      <th>Text Response</th>\n",
       "    </tr>\n",
       "  </thead>\n",
       "  <tbody>\n",
       "    <tr>\n",
       "      <th>0</th>\n",
       "      <td>When did the simpsons first air on television?</td>\n",
       "      <td>[December 17 , 1989]</td>\n",
       "    </tr>\n",
       "    <tr>\n",
       "      <th>1</th>\n",
       "      <td>Who played george washington in the john adams...</td>\n",
       "      <td>[David Morse]</td>\n",
       "    </tr>\n",
       "    <tr>\n",
       "      <th>2</th>\n",
       "      <td>What is the legal age of marriage in usa?</td>\n",
       "      <td>[18, Nebraska ( 19 ), Mississippi ( 21 )]</td>\n",
       "    </tr>\n",
       "    <tr>\n",
       "      <th>3</th>\n",
       "      <td>Who starred in barefoot in the park on broadway?</td>\n",
       "      <td>[Robert Redford, Elizabeth Ashley]</td>\n",
       "    </tr>\n",
       "    <tr>\n",
       "      <th>4</th>\n",
       "      <td>When did the manhattan project began and end?</td>\n",
       "      <td>[From 1942 to 1946]</td>\n",
       "    </tr>\n",
       "  </tbody>\n",
       "</table>\n",
       "</div>"
      ],
      "text/plain": [
       "                                             Context  \\\n",
       "0     When did the simpsons first air on television?   \n",
       "1  Who played george washington in the john adams...   \n",
       "2          What is the legal age of marriage in usa?   \n",
       "3   Who starred in barefoot in the park on broadway?   \n",
       "4      When did the manhattan project began and end?   \n",
       "\n",
       "                               Text Response  \n",
       "0                       [December 17 , 1989]  \n",
       "1                              [David Morse]  \n",
       "2  [18, Nebraska ( 19 ), Mississippi ( 21 )]  \n",
       "3         [Robert Redford, Elizabeth Ashley]  \n",
       "4                        [From 1942 to 1946]  "
      ]
     },
     "execution_count": 5,
     "metadata": {},
     "output_type": "execute_result"
    }
   ],
   "source": [
    "# delete columns other than question and nq_answer\n",
    "df2 = df2.drop(columns=['viewed_doc_titles', 'used_queries', 'annotations', 'id', 'nq_doc_title'])\n",
    "df2 = df2.reindex(columns=['question', 'nq_answer'])  # swap the order for questions to be first\n",
    "df2 = df2.rename(columns={'question': 'Context', 'nq_answer': 'Text Response'})\n",
    "df2.head()"
   ]
  },
  {
   "cell_type": "code",
   "execution_count": 6,
   "id": "adfadefb",
   "metadata": {
    "execution": {
     "iopub.execute_input": "2023-02-21T10:33:58.443293Z",
     "iopub.status.busy": "2023-02-21T10:33:58.442879Z",
     "iopub.status.idle": "2023-02-21T10:33:58.473155Z",
     "shell.execute_reply": "2023-02-21T10:33:58.471986Z"
    },
    "papermill": {
     "duration": 0.044156,
     "end_time": "2023-02-21T10:33:58.475429",
     "exception": false,
     "start_time": "2023-02-21T10:33:58.431273",
     "status": "completed"
    },
    "tags": []
   },
   "outputs": [
    {
     "data": {
      "text/html": [
       "<div>\n",
       "<style scoped>\n",
       "    .dataframe tbody tr th:only-of-type {\n",
       "        vertical-align: middle;\n",
       "    }\n",
       "\n",
       "    .dataframe tbody tr th {\n",
       "        vertical-align: top;\n",
       "    }\n",
       "\n",
       "    .dataframe thead th {\n",
       "        text-align: right;\n",
       "    }\n",
       "</style>\n",
       "<table border=\"1\" class=\"dataframe\">\n",
       "  <thead>\n",
       "    <tr style=\"text-align: right;\">\n",
       "      <th></th>\n",
       "      <th>Context</th>\n",
       "      <th>Text Response</th>\n",
       "    </tr>\n",
       "  </thead>\n",
       "  <tbody>\n",
       "    <tr>\n",
       "      <th>0</th>\n",
       "      <td>When did the simpsons first air on television?</td>\n",
       "      <td>'December 17 , 1989'</td>\n",
       "    </tr>\n",
       "    <tr>\n",
       "      <th>1</th>\n",
       "      <td>Who played george washington in the john adams...</td>\n",
       "      <td>'David Morse'</td>\n",
       "    </tr>\n",
       "    <tr>\n",
       "      <th>2</th>\n",
       "      <td>What is the legal age of marriage in usa?</td>\n",
       "      <td>'18', 'Nebraska ( 19 )', 'Mississippi ( 21 )'</td>\n",
       "    </tr>\n",
       "    <tr>\n",
       "      <th>3</th>\n",
       "      <td>Who starred in barefoot in the park on broadway?</td>\n",
       "      <td>'Robert Redford', 'Elizabeth Ashley'</td>\n",
       "    </tr>\n",
       "    <tr>\n",
       "      <th>4</th>\n",
       "      <td>When did the manhattan project began and end?</td>\n",
       "      <td>'From 1942 to 1946'</td>\n",
       "    </tr>\n",
       "  </tbody>\n",
       "</table>\n",
       "</div>"
      ],
      "text/plain": [
       "                                             Context  \\\n",
       "0     When did the simpsons first air on television?   \n",
       "1  Who played george washington in the john adams...   \n",
       "2          What is the legal age of marriage in usa?   \n",
       "3   Who starred in barefoot in the park on broadway?   \n",
       "4      When did the manhattan project began and end?   \n",
       "\n",
       "                                   Text Response  \n",
       "0                           'December 17 , 1989'  \n",
       "1                                  'David Morse'  \n",
       "2  '18', 'Nebraska ( 19 )', 'Mississippi ( 21 )'  \n",
       "3           'Robert Redford', 'Elizabeth Ashley'  \n",
       "4                            'From 1942 to 1946'  "
      ]
     },
     "execution_count": 6,
     "metadata": {},
     "output_type": "execute_result"
    }
   ],
   "source": [
    "# there are brackets included in the Text Responses, doesn't look great\n",
    "def remove_brackets(text):\n",
    "    new_text = str(text).replace('[', '')  # replace left square bracket character with nothing\n",
    "    new_text = str(new_text).replace(']', '')  # do the same with the right one\n",
    "    return new_text\n",
    "\n",
    "df2['Text Response'] = df2['Text Response'].apply(remove_brackets)  # remove all the brackets for the selected column\n",
    "df2.head()"
   ]
  },
  {
   "cell_type": "code",
   "execution_count": 7,
   "id": "86883fe8",
   "metadata": {
    "execution": {
     "iopub.execute_input": "2023-02-21T10:33:58.498118Z",
     "iopub.status.busy": "2023-02-21T10:33:58.497689Z",
     "iopub.status.idle": "2023-02-21T10:33:58.516798Z",
     "shell.execute_reply": "2023-02-21T10:33:58.516021Z"
    },
    "papermill": {
     "duration": 0.033319,
     "end_time": "2023-02-21T10:33:58.519279",
     "exception": false,
     "start_time": "2023-02-21T10:33:58.485960",
     "status": "completed"
    },
    "tags": []
   },
   "outputs": [
    {
     "data": {
      "text/html": [
       "<div>\n",
       "<style scoped>\n",
       "    .dataframe tbody tr th:only-of-type {\n",
       "        vertical-align: middle;\n",
       "    }\n",
       "\n",
       "    .dataframe tbody tr th {\n",
       "        vertical-align: top;\n",
       "    }\n",
       "\n",
       "    .dataframe thead th {\n",
       "        text-align: right;\n",
       "    }\n",
       "</style>\n",
       "<table border=\"1\" class=\"dataframe\">\n",
       "  <thead>\n",
       "    <tr style=\"text-align: right;\">\n",
       "      <th></th>\n",
       "      <th>Context</th>\n",
       "      <th>Text Response</th>\n",
       "    </tr>\n",
       "  </thead>\n",
       "  <tbody>\n",
       "    <tr>\n",
       "      <th>0</th>\n",
       "      <td>When did the simpsons first air on television?</td>\n",
       "      <td>December 17 , 1989</td>\n",
       "    </tr>\n",
       "    <tr>\n",
       "      <th>1</th>\n",
       "      <td>Who played george washington in the john adams...</td>\n",
       "      <td>David Morse</td>\n",
       "    </tr>\n",
       "    <tr>\n",
       "      <th>2</th>\n",
       "      <td>What is the legal age of marriage in usa?</td>\n",
       "      <td>18', 'Nebraska ( 19 )', 'Mississippi ( 21 )</td>\n",
       "    </tr>\n",
       "    <tr>\n",
       "      <th>3</th>\n",
       "      <td>Who starred in barefoot in the park on broadway?</td>\n",
       "      <td>Robert Redford', 'Elizabeth Ashley</td>\n",
       "    </tr>\n",
       "    <tr>\n",
       "      <th>4</th>\n",
       "      <td>When did the manhattan project began and end?</td>\n",
       "      <td>From 1942 to 1946</td>\n",
       "    </tr>\n",
       "  </tbody>\n",
       "</table>\n",
       "</div>"
      ],
      "text/plain": [
       "                                             Context  \\\n",
       "0     When did the simpsons first air on television?   \n",
       "1  Who played george washington in the john adams...   \n",
       "2          What is the legal age of marriage in usa?   \n",
       "3   Who starred in barefoot in the park on broadway?   \n",
       "4      When did the manhattan project began and end?   \n",
       "\n",
       "                                 Text Response  \n",
       "0                           December 17 , 1989  \n",
       "1                                  David Morse  \n",
       "2  18', 'Nebraska ( 19 )', 'Mississippi ( 21 )  \n",
       "3           Robert Redford', 'Elizabeth Ashley  \n",
       "4                            From 1942 to 1946  "
      ]
     },
     "execution_count": 7,
     "metadata": {},
     "output_type": "execute_result"
    }
   ],
   "source": [
    "# now we have some apostrophes at the start and end of our responses...\n",
    "def remove_first_and_last_character(text):\n",
    "    return str(text)[1:-1]  # slice from the second character till the last one (excluding the last one)\n",
    "\n",
    "df2['Text Response'] = df2['Text Response'].apply(remove_first_and_last_character)  # execute it for the whole column\n",
    "df2.head()"
   ]
  },
  {
   "cell_type": "code",
   "execution_count": 8,
   "id": "ce37fc65",
   "metadata": {
    "execution": {
     "iopub.execute_input": "2023-02-21T10:33:58.543338Z",
     "iopub.status.busy": "2023-02-21T10:33:58.542176Z",
     "iopub.status.idle": "2023-02-21T10:33:58.548651Z",
     "shell.execute_reply": "2023-02-21T10:33:58.547591Z"
    },
    "papermill": {
     "duration": 0.020829,
     "end_time": "2023-02-21T10:33:58.551083",
     "exception": false,
     "start_time": "2023-02-21T10:33:58.530254",
     "status": "completed"
    },
    "tags": []
   },
   "outputs": [
    {
     "name": "stdout",
     "output_type": "stream",
     "text": [
      "Number of rows in the original dataset:  1592\n",
      "Number of rows in the new dataset:  10036\n"
     ]
    }
   ],
   "source": [
    "# compare the number of rows for each dataset\n",
    "print(\"Number of rows in the original dataset: \", df1.shape[0])\n",
    "print(\"Number of rows in the new dataset: \", df2.shape[0])"
   ]
  },
  {
   "cell_type": "code",
   "execution_count": 9,
   "id": "a127e418",
   "metadata": {
    "execution": {
     "iopub.execute_input": "2023-02-21T10:33:58.575619Z",
     "iopub.status.busy": "2023-02-21T10:33:58.575194Z",
     "iopub.status.idle": "2023-02-21T10:33:58.590946Z",
     "shell.execute_reply": "2023-02-21T10:33:58.589290Z"
    },
    "papermill": {
     "duration": 0.031429,
     "end_time": "2023-02-21T10:33:58.593648",
     "exception": false,
     "start_time": "2023-02-21T10:33:58.562219",
     "status": "completed"
    },
    "tags": []
   },
   "outputs": [
    {
     "name": "stdout",
     "output_type": "stream",
     "text": [
      "Number of rows in the combined dataset:  11628\n"
     ]
    }
   ],
   "source": [
    "df = pd.DataFrame()  # create blank dataframe'\n",
    "column1 = [*df1['Context'].tolist(), *df2['Context'].tolist()]  # make a list out of the first columns of both datasets\n",
    "column2 = [*df1['Text Response'].tolist(), * df2['Text Response'].tolist()]  # make a second column by combining both\n",
    "df.insert(0, 'Context', column1, True)  # insert first column\n",
    "df.insert(1, 'Text Response', column2, True)  # insert second one\n",
    "print(\"Number of rows in the combined dataset: \", df.shape[0])"
   ]
  },
  {
   "cell_type": "code",
   "execution_count": 10,
   "id": "30f185c7",
   "metadata": {
    "execution": {
     "iopub.execute_input": "2023-02-21T10:33:58.617619Z",
     "iopub.status.busy": "2023-02-21T10:33:58.616923Z",
     "iopub.status.idle": "2023-02-21T10:33:58.628079Z",
     "shell.execute_reply": "2023-02-21T10:33:58.627019Z"
    },
    "papermill": {
     "duration": 0.025745,
     "end_time": "2023-02-21T10:33:58.630469",
     "exception": false,
     "start_time": "2023-02-21T10:33:58.604724",
     "status": "completed"
    },
    "tags": []
   },
   "outputs": [
    {
     "data": {
      "text/html": [
       "<div>\n",
       "<style scoped>\n",
       "    .dataframe tbody tr th:only-of-type {\n",
       "        vertical-align: middle;\n",
       "    }\n",
       "\n",
       "    .dataframe tbody tr th {\n",
       "        vertical-align: top;\n",
       "    }\n",
       "\n",
       "    .dataframe thead th {\n",
       "        text-align: right;\n",
       "    }\n",
       "</style>\n",
       "<table border=\"1\" class=\"dataframe\">\n",
       "  <thead>\n",
       "    <tr style=\"text-align: right;\">\n",
       "      <th></th>\n",
       "      <th>Context</th>\n",
       "      <th>Text Response</th>\n",
       "    </tr>\n",
       "  </thead>\n",
       "  <tbody>\n",
       "    <tr>\n",
       "      <th>0</th>\n",
       "      <td>Tell me about your personality</td>\n",
       "      <td>Just think of me as the ace up your sleeve.</td>\n",
       "    </tr>\n",
       "    <tr>\n",
       "      <th>1</th>\n",
       "      <td>I want to know you better</td>\n",
       "      <td>I can help you work smarter instead of harder</td>\n",
       "    </tr>\n",
       "    <tr>\n",
       "      <th>2</th>\n",
       "      <td>Define yourself</td>\n",
       "      <td>NaN</td>\n",
       "    </tr>\n",
       "    <tr>\n",
       "      <th>3</th>\n",
       "      <td>Describe yourself</td>\n",
       "      <td>NaN</td>\n",
       "    </tr>\n",
       "    <tr>\n",
       "      <th>4</th>\n",
       "      <td>tell me about yourself</td>\n",
       "      <td>NaN</td>\n",
       "    </tr>\n",
       "  </tbody>\n",
       "</table>\n",
       "</div>"
      ],
      "text/plain": [
       "                          Context  \\\n",
       "0  Tell me about your personality   \n",
       "1       I want to know you better   \n",
       "2                 Define yourself   \n",
       "3               Describe yourself   \n",
       "4          tell me about yourself   \n",
       "\n",
       "                                   Text Response  \n",
       "0    Just think of me as the ace up your sleeve.  \n",
       "1  I can help you work smarter instead of harder  \n",
       "2                                            NaN  \n",
       "3                                            NaN  \n",
       "4                                            NaN  "
      ]
     },
     "execution_count": 10,
     "metadata": {},
     "output_type": "execute_result"
    }
   ],
   "source": [
    "df.head() "
   ]
  },
  {
   "cell_type": "markdown",
   "id": "cd642227",
   "metadata": {
    "papermill": {
     "duration": 0.010513,
     "end_time": "2023-02-21T10:33:58.651991",
     "exception": false,
     "start_time": "2023-02-21T10:33:58.641478",
     "status": "completed"
    },
    "tags": []
   },
   "source": [
    "Null values are present for the same type of questions whose response can be almost similar and in that similar group of questions, the response is given to the first and the rest filled with null. So, what we can do is use `ffill()` which returns the value of previous response in place of null values as below."
   ]
  },
  {
   "cell_type": "code",
   "execution_count": 11,
   "id": "d4d3d06f",
   "metadata": {
    "execution": {
     "iopub.execute_input": "2023-02-21T10:33:58.676079Z",
     "iopub.status.busy": "2023-02-21T10:33:58.675647Z",
     "iopub.status.idle": "2023-02-21T10:33:58.694543Z",
     "shell.execute_reply": "2023-02-21T10:33:58.693009Z"
    },
    "papermill": {
     "duration": 0.034196,
     "end_time": "2023-02-21T10:33:58.697097",
     "exception": false,
     "start_time": "2023-02-21T10:33:58.662901",
     "status": "completed"
    },
    "tags": []
   },
   "outputs": [
    {
     "data": {
      "text/html": [
       "<div>\n",
       "<style scoped>\n",
       "    .dataframe tbody tr th:only-of-type {\n",
       "        vertical-align: middle;\n",
       "    }\n",
       "\n",
       "    .dataframe tbody tr th {\n",
       "        vertical-align: top;\n",
       "    }\n",
       "\n",
       "    .dataframe thead th {\n",
       "        text-align: right;\n",
       "    }\n",
       "</style>\n",
       "<table border=\"1\" class=\"dataframe\">\n",
       "  <thead>\n",
       "    <tr style=\"text-align: right;\">\n",
       "      <th></th>\n",
       "      <th>Context</th>\n",
       "      <th>Text Response</th>\n",
       "    </tr>\n",
       "  </thead>\n",
       "  <tbody>\n",
       "    <tr>\n",
       "      <th>0</th>\n",
       "      <td>Tell me about your personality</td>\n",
       "      <td>Just think of me as the ace up your sleeve.</td>\n",
       "    </tr>\n",
       "    <tr>\n",
       "      <th>1</th>\n",
       "      <td>I want to know you better</td>\n",
       "      <td>I can help you work smarter instead of harder</td>\n",
       "    </tr>\n",
       "    <tr>\n",
       "      <th>2</th>\n",
       "      <td>Define yourself</td>\n",
       "      <td>I can help you work smarter instead of harder</td>\n",
       "    </tr>\n",
       "    <tr>\n",
       "      <th>3</th>\n",
       "      <td>Describe yourself</td>\n",
       "      <td>I can help you work smarter instead of harder</td>\n",
       "    </tr>\n",
       "    <tr>\n",
       "      <th>4</th>\n",
       "      <td>tell me about yourself</td>\n",
       "      <td>I can help you work smarter instead of harder</td>\n",
       "    </tr>\n",
       "  </tbody>\n",
       "</table>\n",
       "</div>"
      ],
      "text/plain": [
       "                          Context  \\\n",
       "0  Tell me about your personality   \n",
       "1       I want to know you better   \n",
       "2                 Define yourself   \n",
       "3               Describe yourself   \n",
       "4          tell me about yourself   \n",
       "\n",
       "                                   Text Response  \n",
       "0    Just think of me as the ace up your sleeve.  \n",
       "1  I can help you work smarter instead of harder  \n",
       "2  I can help you work smarter instead of harder  \n",
       "3  I can help you work smarter instead of harder  \n",
       "4  I can help you work smarter instead of harder  "
      ]
     },
     "execution_count": 11,
     "metadata": {},
     "output_type": "execute_result"
    }
   ],
   "source": [
    "df.ffill(axis = 0, inplace = True)   # fill the null value with the previous value\n",
    "df.head()  # see first 5 lines"
   ]
  },
  {
   "cell_type": "markdown",
   "id": "29672f99",
   "metadata": {
    "papermill": {
     "duration": 0.011054,
     "end_time": "2023-02-21T10:33:58.720226",
     "exception": false,
     "start_time": "2023-02-21T10:33:58.709172",
     "status": "completed"
    },
    "tags": []
   },
   "source": [
    "# Preprocess data"
   ]
  },
  {
   "cell_type": "code",
   "execution_count": 12,
   "id": "3f8bf467",
   "metadata": {},
   "outputs": [
    {
     "name": "stderr",
     "output_type": "stream",
     "text": [
      "[nltk_data] Error loading averaged_perceptron_tagger: <urlopen error\n",
      "[nltk_data]     [WinError 10060] A connection attempt failed because\n",
      "[nltk_data]     the connected party did not properly respond after a\n",
      "[nltk_data]     period of time, or established connection failed\n",
      "[nltk_data]     because connected host has failed to respond>\n",
      "[nltk_data] Error loading wordnet: <urlopen error [WinError 10060] A\n",
      "[nltk_data]     connection attempt failed because the connected party\n",
      "[nltk_data]     did not properly respond after a period of time, or\n",
      "[nltk_data]     established connection failed because connected host\n",
      "[nltk_data]     has failed to respond>\n"
     ]
    },
    {
     "data": {
      "text/plain": [
       "False"
      ]
     },
     "execution_count": 12,
     "metadata": {},
     "output_type": "execute_result"
    }
   ],
   "source": [
    "import nltk\n",
    "nltk.download('averaged_perceptron_tagger')\n",
    "nltk.download('wordnet')"
   ]
  },
  {
   "cell_type": "code",
   "execution_count": 13,
   "id": "0072e12b",
   "metadata": {},
   "outputs": [
    {
     "name": "stderr",
     "output_type": "stream",
     "text": [
      "[nltk_data] Error loading wordnet: <urlopen error [WinError 10060] A\n",
      "[nltk_data]     connection attempt failed because the connected party\n",
      "[nltk_data]     did not properly respond after a period of time, or\n",
      "[nltk_data]     established connection failed because connected host\n",
      "[nltk_data]     has failed to respond>\n"
     ]
    },
    {
     "name": "stdout",
     "output_type": "stream",
     "text": [
      "showing info https://raw.githubusercontent.com/nltk/nltk_data/gh-pages/index.xml\n"
     ]
    },
    {
     "data": {
      "text/plain": [
       "True"
      ]
     },
     "execution_count": 13,
     "metadata": {},
     "output_type": "execute_result"
    }
   ],
   "source": [
    "import nltk\n",
    "nltk.download('wordnet')\n",
    "import nltk\n",
    "nltk.download()"
   ]
  },
  {
   "cell_type": "markdown",
   "id": "a7f83916",
   "metadata": {
    "papermill": {
     "duration": 0.010673,
     "end_time": "2023-02-21T10:33:58.742215",
     "exception": false,
     "start_time": "2023-02-21T10:33:58.731542",
     "status": "completed"
    },
    "tags": []
   },
   "source": [
    "### Convert text into lower cases and remove special characters and numbers"
   ]
  },
  {
   "cell_type": "code",
   "execution_count": 14,
   "id": "fc3e1ed7",
   "metadata": {
    "execution": {
     "iopub.execute_input": "2023-02-21T10:33:58.767756Z",
     "iopub.status.busy": "2023-02-21T10:33:58.767291Z",
     "iopub.status.idle": "2023-02-21T10:33:58.841217Z",
     "shell.execute_reply": "2023-02-21T10:33:58.839943Z"
    },
    "papermill": {
     "duration": 0.090466,
     "end_time": "2023-02-21T10:33:58.843895",
     "exception": false,
     "start_time": "2023-02-21T10:33:58.753429",
     "status": "completed"
    },
    "tags": []
   },
   "outputs": [
    {
     "data": {
      "text/html": [
       "<div>\n",
       "<style scoped>\n",
       "    .dataframe tbody tr th:only-of-type {\n",
       "        vertical-align: middle;\n",
       "    }\n",
       "\n",
       "    .dataframe tbody tr th {\n",
       "        vertical-align: top;\n",
       "    }\n",
       "\n",
       "    .dataframe thead th {\n",
       "        text-align: right;\n",
       "    }\n",
       "</style>\n",
       "<table border=\"1\" class=\"dataframe\">\n",
       "  <thead>\n",
       "    <tr style=\"text-align: right;\">\n",
       "      <th></th>\n",
       "      <th>Context</th>\n",
       "      <th>Cleaned Context</th>\n",
       "      <th>Text Response</th>\n",
       "    </tr>\n",
       "  </thead>\n",
       "  <tbody>\n",
       "    <tr>\n",
       "      <th>0</th>\n",
       "      <td>Tell me about your personality</td>\n",
       "      <td>tell me about your personality</td>\n",
       "      <td>Just think of me as the ace up your sleeve.</td>\n",
       "    </tr>\n",
       "    <tr>\n",
       "      <th>1</th>\n",
       "      <td>I want to know you better</td>\n",
       "      <td>i want to know you better</td>\n",
       "      <td>I can help you work smarter instead of harder</td>\n",
       "    </tr>\n",
       "    <tr>\n",
       "      <th>2</th>\n",
       "      <td>Define yourself</td>\n",
       "      <td>define yourself</td>\n",
       "      <td>I can help you work smarter instead of harder</td>\n",
       "    </tr>\n",
       "    <tr>\n",
       "      <th>3</th>\n",
       "      <td>Describe yourself</td>\n",
       "      <td>describe yourself</td>\n",
       "      <td>I can help you work smarter instead of harder</td>\n",
       "    </tr>\n",
       "    <tr>\n",
       "      <th>4</th>\n",
       "      <td>tell me about yourself</td>\n",
       "      <td>tell me about yourself</td>\n",
       "      <td>I can help you work smarter instead of harder</td>\n",
       "    </tr>\n",
       "  </tbody>\n",
       "</table>\n",
       "</div>"
      ],
      "text/plain": [
       "                          Context                 Cleaned Context  \\\n",
       "0  Tell me about your personality  tell me about your personality   \n",
       "1       I want to know you better       i want to know you better   \n",
       "2                 Define yourself                 define yourself   \n",
       "3               Describe yourself               describe yourself   \n",
       "4          tell me about yourself          tell me about yourself   \n",
       "\n",
       "                                   Text Response  \n",
       "0    Just think of me as the ace up your sleeve.  \n",
       "1  I can help you work smarter instead of harder  \n",
       "2  I can help you work smarter instead of harder  \n",
       "3  I can help you work smarter instead of harder  \n",
       "4  I can help you work smarter instead of harder  "
      ]
     },
     "execution_count": 14,
     "metadata": {},
     "output_type": "execute_result"
    }
   ],
   "source": [
    "def cleaning(x):\n",
    "    cleaned_array = list()\n",
    "    for i in x:\n",
    "        a = str(i).lower()  # convert to all lower letters\n",
    "        p = re.sub(r'[^a-z0-9]', ' ', a)  # remove any special characters but keep numbers\n",
    "        cleaned_array.append(p)  # add variable p to our array names cleaned_array\n",
    "    return cleaned_array\n",
    "\n",
    "# Create extra column in our dataset just for fun and to see how the cleaned text looks like \n",
    "# in comparison with the original\n",
    "df.insert(1, 'Cleaned Context', cleaning(df['Context']), True)\n",
    "# first argument indicates position we want this column to be slotted in, second is the name of the new column,\n",
    "# third is the array we want to you to fill the rows with and \n",
    "# the last boolean indicates whether to allow duplicates\n",
    "df.head()\n",
    "\n"
   ]
  },
  {
   "cell_type": "markdown",
   "id": "49b6c6de",
   "metadata": {
    "papermill": {
     "duration": 0.011081,
     "end_time": "2023-02-21T10:33:58.866622",
     "exception": false,
     "start_time": "2023-02-21T10:33:58.855541",
     "status": "completed"
    },
    "tags": []
   },
   "source": [
    "### Create function to clean our data and carry out lemmatization"
   ]
  },
  {
   "cell_type": "code",
   "execution_count": 15,
   "id": "6b607dbb",
   "metadata": {
    "execution": {
     "iopub.execute_input": "2023-02-21T10:33:58.891181Z",
     "iopub.status.busy": "2023-02-21T10:33:58.890755Z",
     "iopub.status.idle": "2023-02-21T10:33:58.901095Z",
     "shell.execute_reply": "2023-02-21T10:33:58.900077Z"
    },
    "papermill": {
     "duration": 0.025513,
     "end_time": "2023-02-21T10:33:58.903438",
     "exception": false,
     "start_time": "2023-02-21T10:33:58.877925",
     "status": "completed"
    },
    "tags": []
   },
   "outputs": [],
   "source": [
    "def text_normalization(text):\n",
    "    text = str(text).lower()  # convert to all lower letters\n",
    "    spl_char_text = re.sub(r'[^a-z]', ' ', text)  # remove any special characters including numbers\n",
    "    tokens = nltk.word_tokenize(spl_char_text)  # tokenize words\n",
    "    lema = wordnet.WordNetLemmatizer()  # lemmatizer initiation\n",
    "    tags_list = pos_tag(tokens, tagset = None)  # parts of speech\n",
    "    lema_words = []\n",
    "    for token, pos_token in tags_list:\n",
    "        if pos_token.startswith('V'):  # if the tag from tag_list is a verb, assign 'v' to it's pos_val\n",
    "            pos_val = 'v'\n",
    "        elif pos_token.startswith('J'):  # adjective\n",
    "            pos_val = 'a'\n",
    "        elif pos_token.startswith('R'):  # adverb\n",
    "            pos_val = 'r'\n",
    "        else:  # otherwise it must be a noun\n",
    "            pos_val = 'n'\n",
    "        lema_token = lema.lemmatize(token, pos_val)  # performing lemmatization\n",
    "        lema_words.append(lema_token)  # addid the lemamtized words into our list\n",
    "    return \" \".join(lema_words)  # return our list as a human sentence"
   ]
  },
  {
   "cell_type": "code",
   "execution_count": 16,
   "id": "fd0dc3ff",
   "metadata": {
    "execution": {
     "iopub.execute_input": "2023-02-21T10:33:58.928184Z",
     "iopub.status.busy": "2023-02-21T10:33:58.927787Z",
     "iopub.status.idle": "2023-02-21T10:34:09.746486Z",
     "shell.execute_reply": "2023-02-21T10:34:09.745670Z"
    },
    "papermill": {
     "duration": 10.83378,
     "end_time": "2023-02-21T10:34:09.748748",
     "exception": false,
     "start_time": "2023-02-21T10:33:58.914968",
     "status": "completed"
    },
    "tags": []
   },
   "outputs": [
    {
     "data": {
      "text/html": [
       "<div>\n",
       "<style scoped>\n",
       "    .dataframe tbody tr th:only-of-type {\n",
       "        vertical-align: middle;\n",
       "    }\n",
       "\n",
       "    .dataframe tbody tr th {\n",
       "        vertical-align: top;\n",
       "    }\n",
       "\n",
       "    .dataframe thead th {\n",
       "        text-align: right;\n",
       "    }\n",
       "</style>\n",
       "<table border=\"1\" class=\"dataframe\">\n",
       "  <thead>\n",
       "    <tr style=\"text-align: right;\">\n",
       "      <th></th>\n",
       "      <th>Context</th>\n",
       "      <th>Cleaned Context</th>\n",
       "      <th>Normalized Context</th>\n",
       "      <th>Text Response</th>\n",
       "    </tr>\n",
       "  </thead>\n",
       "  <tbody>\n",
       "    <tr>\n",
       "      <th>0</th>\n",
       "      <td>Tell me about your personality</td>\n",
       "      <td>tell me about your personality</td>\n",
       "      <td>tell me about your personality</td>\n",
       "      <td>Just think of me as the ace up your sleeve.</td>\n",
       "    </tr>\n",
       "    <tr>\n",
       "      <th>1</th>\n",
       "      <td>I want to know you better</td>\n",
       "      <td>i want to know you better</td>\n",
       "      <td>i want to know you good</td>\n",
       "      <td>I can help you work smarter instead of harder</td>\n",
       "    </tr>\n",
       "    <tr>\n",
       "      <th>2</th>\n",
       "      <td>Define yourself</td>\n",
       "      <td>define yourself</td>\n",
       "      <td>define yourself</td>\n",
       "      <td>I can help you work smarter instead of harder</td>\n",
       "    </tr>\n",
       "    <tr>\n",
       "      <th>3</th>\n",
       "      <td>Describe yourself</td>\n",
       "      <td>describe yourself</td>\n",
       "      <td>describe yourself</td>\n",
       "      <td>I can help you work smarter instead of harder</td>\n",
       "    </tr>\n",
       "    <tr>\n",
       "      <th>4</th>\n",
       "      <td>tell me about yourself</td>\n",
       "      <td>tell me about yourself</td>\n",
       "      <td>tell me about yourself</td>\n",
       "      <td>I can help you work smarter instead of harder</td>\n",
       "    </tr>\n",
       "  </tbody>\n",
       "</table>\n",
       "</div>"
      ],
      "text/plain": [
       "                          Context                 Cleaned Context  \\\n",
       "0  Tell me about your personality  tell me about your personality   \n",
       "1       I want to know you better       i want to know you better   \n",
       "2                 Define yourself                 define yourself   \n",
       "3               Describe yourself               describe yourself   \n",
       "4          tell me about yourself          tell me about yourself   \n",
       "\n",
       "               Normalized Context  \\\n",
       "0  tell me about your personality   \n",
       "1         i want to know you good   \n",
       "2                 define yourself   \n",
       "3               describe yourself   \n",
       "4          tell me about yourself   \n",
       "\n",
       "                                   Text Response  \n",
       "0    Just think of me as the ace up your sleeve.  \n",
       "1  I can help you work smarter instead of harder  \n",
       "2  I can help you work smarter instead of harder  \n",
       "3  I can help you work smarter instead of harder  \n",
       "4  I can help you work smarter instead of harder  "
      ]
     },
     "execution_count": 16,
     "metadata": {},
     "output_type": "execute_result"
    }
   ],
   "source": [
    "normalized = df['Context'].apply(text_normalization)\n",
    "df.insert(2, 'Normalized Context', normalized, True)\n",
    "df.head()"
   ]
  },
  {
   "cell_type": "markdown",
   "id": "73e3cde5",
   "metadata": {
    "papermill": {
     "duration": 0.011122,
     "end_time": "2023-02-21T10:34:09.771325",
     "exception": false,
     "start_time": "2023-02-21T10:34:09.760203",
     "status": "completed"
    },
    "tags": []
   },
   "source": [
    "### Also create function to remove stop words from text"
   ]
  },
  {
   "cell_type": "code",
   "execution_count": 17,
   "id": "f6ebc03e",
   "metadata": {
    "execution": {
     "iopub.execute_input": "2023-02-21T10:34:09.796423Z",
     "iopub.status.busy": "2023-02-21T10:34:09.795367Z",
     "iopub.status.idle": "2023-02-21T10:34:09.807711Z",
     "shell.execute_reply": "2023-02-21T10:34:09.806569Z"
    },
    "papermill": {
     "duration": 0.027505,
     "end_time": "2023-02-21T10:34:09.810292",
     "exception": false,
     "start_time": "2023-02-21T10:34:09.782787",
     "status": "completed"
    },
    "tags": []
   },
   "outputs": [],
   "source": [
    "stop = stopwords.words('english')\n",
    "def removeStopWords(text):\n",
    "    Q = []\n",
    "    s = text.split()  # create an array of words from our text sentence, cut it into words\n",
    "    q = ''\n",
    "    for w in s:  # for every word in the given sentence if the word is a stop word ignore it\n",
    "        if w in stop:\n",
    "            continue\n",
    "        else:  # otherwise add it to the end of our array\n",
    "            Q.append(w)\n",
    "        q = \" \".join(Q)  # create a sentence out of our array of non stop words\n",
    "    return q"
   ]
  },
  {
   "cell_type": "code",
   "execution_count": 18,
   "id": "71eb9035",
   "metadata": {
    "execution": {
     "iopub.execute_input": "2023-02-21T10:34:09.835350Z",
     "iopub.status.busy": "2023-02-21T10:34:09.834840Z",
     "iopub.status.idle": "2023-02-21T10:34:10.078221Z",
     "shell.execute_reply": "2023-02-21T10:34:10.077006Z"
    },
    "papermill": {
     "duration": 0.258682,
     "end_time": "2023-02-21T10:34:10.080576",
     "exception": false,
     "start_time": "2023-02-21T10:34:09.821894",
     "status": "completed"
    },
    "tags": []
   },
   "outputs": [
    {
     "data": {
      "text/html": [
       "<div>\n",
       "<style scoped>\n",
       "    .dataframe tbody tr th:only-of-type {\n",
       "        vertical-align: middle;\n",
       "    }\n",
       "\n",
       "    .dataframe tbody tr th {\n",
       "        vertical-align: top;\n",
       "    }\n",
       "\n",
       "    .dataframe thead th {\n",
       "        text-align: right;\n",
       "    }\n",
       "</style>\n",
       "<table border=\"1\" class=\"dataframe\">\n",
       "  <thead>\n",
       "    <tr style=\"text-align: right;\">\n",
       "      <th></th>\n",
       "      <th>Context</th>\n",
       "      <th>Cleaned Context</th>\n",
       "      <th>Normalized Context</th>\n",
       "      <th>Normalized and StopWords Removed</th>\n",
       "      <th>Text Response</th>\n",
       "    </tr>\n",
       "  </thead>\n",
       "  <tbody>\n",
       "    <tr>\n",
       "      <th>0</th>\n",
       "      <td>Tell me about your personality</td>\n",
       "      <td>tell me about your personality</td>\n",
       "      <td>tell me about your personality</td>\n",
       "      <td>tell personality</td>\n",
       "      <td>Just think of me as the ace up your sleeve.</td>\n",
       "    </tr>\n",
       "    <tr>\n",
       "      <th>1</th>\n",
       "      <td>I want to know you better</td>\n",
       "      <td>i want to know you better</td>\n",
       "      <td>i want to know you good</td>\n",
       "      <td>want know good</td>\n",
       "      <td>I can help you work smarter instead of harder</td>\n",
       "    </tr>\n",
       "    <tr>\n",
       "      <th>2</th>\n",
       "      <td>Define yourself</td>\n",
       "      <td>define yourself</td>\n",
       "      <td>define yourself</td>\n",
       "      <td>define</td>\n",
       "      <td>I can help you work smarter instead of harder</td>\n",
       "    </tr>\n",
       "    <tr>\n",
       "      <th>3</th>\n",
       "      <td>Describe yourself</td>\n",
       "      <td>describe yourself</td>\n",
       "      <td>describe yourself</td>\n",
       "      <td>describe</td>\n",
       "      <td>I can help you work smarter instead of harder</td>\n",
       "    </tr>\n",
       "    <tr>\n",
       "      <th>4</th>\n",
       "      <td>tell me about yourself</td>\n",
       "      <td>tell me about yourself</td>\n",
       "      <td>tell me about yourself</td>\n",
       "      <td>tell</td>\n",
       "      <td>I can help you work smarter instead of harder</td>\n",
       "    </tr>\n",
       "  </tbody>\n",
       "</table>\n",
       "</div>"
      ],
      "text/plain": [
       "                          Context                 Cleaned Context  \\\n",
       "0  Tell me about your personality  tell me about your personality   \n",
       "1       I want to know you better       i want to know you better   \n",
       "2                 Define yourself                 define yourself   \n",
       "3               Describe yourself               describe yourself   \n",
       "4          tell me about yourself          tell me about yourself   \n",
       "\n",
       "               Normalized Context Normalized and StopWords Removed  \\\n",
       "0  tell me about your personality                 tell personality   \n",
       "1         i want to know you good                   want know good   \n",
       "2                 define yourself                           define   \n",
       "3               describe yourself                         describe   \n",
       "4          tell me about yourself                             tell   \n",
       "\n",
       "                                   Text Response  \n",
       "0    Just think of me as the ace up your sleeve.  \n",
       "1  I can help you work smarter instead of harder  \n",
       "2  I can help you work smarter instead of harder  \n",
       "3  I can help you work smarter instead of harder  \n",
       "4  I can help you work smarter instead of harder  "
      ]
     },
     "execution_count": 18,
     "metadata": {},
     "output_type": "execute_result"
    }
   ],
   "source": [
    "normalized_non_stopwords = df['Normalized Context'].apply(removeStopWords)\n",
    "df.insert(3, 'Normalized and StopWords Removed', normalized_non_stopwords, True)\n",
    "df.head()"
   ]
  },
  {
   "cell_type": "markdown",
   "id": "1c216662",
   "metadata": {
    "papermill": {
     "duration": 0.011441,
     "end_time": "2023-02-21T10:34:10.103755",
     "exception": false,
     "start_time": "2023-02-21T10:34:10.092314",
     "status": "completed"
    },
    "tags": []
   },
   "source": [
    "# Bag of words\n",
    "### BOW is a method to extract features from text documents. These features can be used for training machine learning algorithms. It creates a vocabulary of all the unique words occurring in all the documents in the training set"
   ]
  },
  {
   "cell_type": "code",
   "execution_count": 19,
   "id": "7a2abb86",
   "metadata": {
    "execution": {
     "iopub.execute_input": "2023-02-21T10:34:10.128909Z",
     "iopub.status.busy": "2023-02-21T10:34:10.128489Z",
     "iopub.status.idle": "2023-02-21T10:34:10.497871Z",
     "shell.execute_reply": "2023-02-21T10:34:10.496607Z"
    },
    "papermill": {
     "duration": 0.384918,
     "end_time": "2023-02-21T10:34:10.500400",
     "exception": false,
     "start_time": "2023-02-21T10:34:10.115482",
     "status": "completed"
    },
    "tags": []
   },
   "outputs": [
    {
     "data": {
      "text/html": [
       "<div>\n",
       "<style scoped>\n",
       "    .dataframe tbody tr th:only-of-type {\n",
       "        vertical-align: middle;\n",
       "    }\n",
       "\n",
       "    .dataframe tbody tr th {\n",
       "        vertical-align: top;\n",
       "    }\n",
       "\n",
       "    .dataframe thead th {\n",
       "        text-align: right;\n",
       "    }\n",
       "</style>\n",
       "<table border=\"1\" class=\"dataframe\">\n",
       "  <thead>\n",
       "    <tr style=\"text-align: right;\">\n",
       "      <th></th>\n",
       "      <th>aaron</th>\n",
       "      <th>ab</th>\n",
       "      <th>abba</th>\n",
       "      <th>abbey</th>\n",
       "      <th>abbott</th>\n",
       "      <th>abbreviation</th>\n",
       "      <th>abby</th>\n",
       "      <th>abdomen</th>\n",
       "      <th>abduct</th>\n",
       "      <th>abdul</th>\n",
       "      <th>...</th>\n",
       "      <th>zombie</th>\n",
       "      <th>zone</th>\n",
       "      <th>zoo</th>\n",
       "      <th>zootopia</th>\n",
       "      <th>zorro</th>\n",
       "      <th>zulu</th>\n",
       "      <th>zumbo</th>\n",
       "      <th>zumbos</th>\n",
       "      <th>zuzu</th>\n",
       "      <th>zymase</th>\n",
       "    </tr>\n",
       "  </thead>\n",
       "  <tbody>\n",
       "    <tr>\n",
       "      <th>0</th>\n",
       "      <td>0</td>\n",
       "      <td>0</td>\n",
       "      <td>0</td>\n",
       "      <td>0</td>\n",
       "      <td>0</td>\n",
       "      <td>0</td>\n",
       "      <td>0</td>\n",
       "      <td>0</td>\n",
       "      <td>0</td>\n",
       "      <td>0</td>\n",
       "      <td>...</td>\n",
       "      <td>0</td>\n",
       "      <td>0</td>\n",
       "      <td>0</td>\n",
       "      <td>0</td>\n",
       "      <td>0</td>\n",
       "      <td>0</td>\n",
       "      <td>0</td>\n",
       "      <td>0</td>\n",
       "      <td>0</td>\n",
       "      <td>0</td>\n",
       "    </tr>\n",
       "    <tr>\n",
       "      <th>1</th>\n",
       "      <td>0</td>\n",
       "      <td>0</td>\n",
       "      <td>0</td>\n",
       "      <td>0</td>\n",
       "      <td>0</td>\n",
       "      <td>0</td>\n",
       "      <td>0</td>\n",
       "      <td>0</td>\n",
       "      <td>0</td>\n",
       "      <td>0</td>\n",
       "      <td>...</td>\n",
       "      <td>0</td>\n",
       "      <td>0</td>\n",
       "      <td>0</td>\n",
       "      <td>0</td>\n",
       "      <td>0</td>\n",
       "      <td>0</td>\n",
       "      <td>0</td>\n",
       "      <td>0</td>\n",
       "      <td>0</td>\n",
       "      <td>0</td>\n",
       "    </tr>\n",
       "    <tr>\n",
       "      <th>2</th>\n",
       "      <td>0</td>\n",
       "      <td>0</td>\n",
       "      <td>0</td>\n",
       "      <td>0</td>\n",
       "      <td>0</td>\n",
       "      <td>0</td>\n",
       "      <td>0</td>\n",
       "      <td>0</td>\n",
       "      <td>0</td>\n",
       "      <td>0</td>\n",
       "      <td>...</td>\n",
       "      <td>0</td>\n",
       "      <td>0</td>\n",
       "      <td>0</td>\n",
       "      <td>0</td>\n",
       "      <td>0</td>\n",
       "      <td>0</td>\n",
       "      <td>0</td>\n",
       "      <td>0</td>\n",
       "      <td>0</td>\n",
       "      <td>0</td>\n",
       "    </tr>\n",
       "    <tr>\n",
       "      <th>3</th>\n",
       "      <td>0</td>\n",
       "      <td>0</td>\n",
       "      <td>0</td>\n",
       "      <td>0</td>\n",
       "      <td>0</td>\n",
       "      <td>0</td>\n",
       "      <td>0</td>\n",
       "      <td>0</td>\n",
       "      <td>0</td>\n",
       "      <td>0</td>\n",
       "      <td>...</td>\n",
       "      <td>0</td>\n",
       "      <td>0</td>\n",
       "      <td>0</td>\n",
       "      <td>0</td>\n",
       "      <td>0</td>\n",
       "      <td>0</td>\n",
       "      <td>0</td>\n",
       "      <td>0</td>\n",
       "      <td>0</td>\n",
       "      <td>0</td>\n",
       "    </tr>\n",
       "    <tr>\n",
       "      <th>4</th>\n",
       "      <td>0</td>\n",
       "      <td>0</td>\n",
       "      <td>0</td>\n",
       "      <td>0</td>\n",
       "      <td>0</td>\n",
       "      <td>0</td>\n",
       "      <td>0</td>\n",
       "      <td>0</td>\n",
       "      <td>0</td>\n",
       "      <td>0</td>\n",
       "      <td>...</td>\n",
       "      <td>0</td>\n",
       "      <td>0</td>\n",
       "      <td>0</td>\n",
       "      <td>0</td>\n",
       "      <td>0</td>\n",
       "      <td>0</td>\n",
       "      <td>0</td>\n",
       "      <td>0</td>\n",
       "      <td>0</td>\n",
       "      <td>0</td>\n",
       "    </tr>\n",
       "  </tbody>\n",
       "</table>\n",
       "<p>5 rows × 8515 columns</p>\n",
       "</div>"
      ],
      "text/plain": [
       "   aaron  ab  abba  abbey  abbott  abbreviation  abby  abdomen  abduct  abdul  \\\n",
       "0      0   0     0      0       0             0     0        0       0      0   \n",
       "1      0   0     0      0       0             0     0        0       0      0   \n",
       "2      0   0     0      0       0             0     0        0       0      0   \n",
       "3      0   0     0      0       0             0     0        0       0      0   \n",
       "4      0   0     0      0       0             0     0        0       0      0   \n",
       "\n",
       "   ...  zombie  zone  zoo  zootopia  zorro  zulu  zumbo  zumbos  zuzu  zymase  \n",
       "0  ...       0     0    0         0      0     0      0       0     0       0  \n",
       "1  ...       0     0    0         0      0     0      0       0     0       0  \n",
       "2  ...       0     0    0         0      0     0      0       0     0       0  \n",
       "3  ...       0     0    0         0      0     0      0       0     0       0  \n",
       "4  ...       0     0    0         0      0     0      0       0     0       0  \n",
       "\n",
       "[5 rows x 8515 columns]"
      ]
     },
     "execution_count": 19,
     "metadata": {},
     "output_type": "execute_result"
    }
   ],
   "source": [
    "cv = CountVectorizer()  # initializing count vectorizer\n",
    "x_bow = cv.fit_transform(df['Normalized Context']).toarray()  # badly speaking this converts words to vectors\n",
    "\n",
    "features_bow = cv.get_feature_names_out()  # use function to get all the normalized words\n",
    "df_bow = pd.DataFrame(x_bow, columns = features_bow)  # create dataframe to show the 0, 1 value for each word\n",
    "df_bow.head()"
   ]
  },
  {
   "cell_type": "code",
   "execution_count": 20,
   "id": "f757f1e9",
   "metadata": {
    "execution": {
     "iopub.execute_input": "2023-02-21T10:34:10.526643Z",
     "iopub.status.busy": "2023-02-21T10:34:10.525832Z",
     "iopub.status.idle": "2023-02-21T10:34:10.532441Z",
     "shell.execute_reply": "2023-02-21T10:34:10.531541Z"
    },
    "papermill": {
     "duration": 0.022692,
     "end_time": "2023-02-21T10:34:10.535000",
     "exception": false,
     "start_time": "2023-02-21T10:34:10.512308",
     "status": "completed"
    },
    "tags": []
   },
   "outputs": [],
   "source": [
    "def chat_bow(question):\n",
    "    tidy_question = text_normalization(removeStopWords(question))  # clean & lemmatize the question\n",
    "    cv_ = cv.transform([tidy_question]).toarray()  # convert the question into a vector\n",
    "    cos = 1- pairwise_distances(df_bow, cv_, metric = 'cosine')  # calculate the cosine value\n",
    "    index_value = cos.argmax()  # find the index of the maximum cosine value\n",
    "    return df['Text Response'].loc[index_value]  # use index to choose the reply from the Text Response feature(column)"
   ]
  },
  {
   "cell_type": "code",
   "execution_count": 21,
   "id": "2b697c3c",
   "metadata": {
    "execution": {
     "iopub.execute_input": "2023-02-21T10:34:10.561579Z",
     "iopub.status.busy": "2023-02-21T10:34:10.560739Z",
     "iopub.status.idle": "2023-02-21T10:34:11.812353Z",
     "shell.execute_reply": "2023-02-21T10:34:11.811050Z"
    },
    "papermill": {
     "duration": 1.269452,
     "end_time": "2023-02-21T10:34:11.816636",
     "exception": false,
     "start_time": "2023-02-21T10:34:10.547184",
     "status": "completed"
    },
    "tags": []
   },
   "outputs": [
    {
     "data": {
      "text/plain": [
       "'I can help you work smarter instead of harder'"
      ]
     },
     "execution_count": 21,
     "metadata": {},
     "output_type": "execute_result"
    }
   ],
   "source": [
    "# call the chat_bow function with the question as an argument\n",
    "chat_bow('Will you help me and tell me more about yourself?')"
   ]
  },
  {
   "cell_type": "markdown",
   "id": "90fa9310",
   "metadata": {
    "papermill": {
     "duration": 0.030585,
     "end_time": "2023-02-21T10:34:11.878472",
     "exception": false,
     "start_time": "2023-02-21T10:34:11.847887",
     "status": "completed"
    },
    "tags": []
   },
   "source": [
    "# Term Frequency - Inverse Document Frequency\n",
    "### TF-IDF is a widely used statistical method in natural language processing and information retrieval. It measures how important a term is within a document relative to a collection of documents (i.e., relative to a corpus)."
   ]
  },
  {
   "cell_type": "code",
   "execution_count": 22,
   "id": "21f49e3b",
   "metadata": {
    "execution": {
     "iopub.execute_input": "2023-02-21T10:34:11.930397Z",
     "iopub.status.busy": "2023-02-21T10:34:11.929971Z",
     "iopub.status.idle": "2023-02-21T10:34:12.485925Z",
     "shell.execute_reply": "2023-02-21T10:34:12.484709Z"
    },
    "papermill": {
     "duration": 0.578699,
     "end_time": "2023-02-21T10:34:12.488182",
     "exception": false,
     "start_time": "2023-02-21T10:34:11.909483",
     "status": "completed"
    },
    "tags": []
   },
   "outputs": [
    {
     "data": {
      "text/html": [
       "<div>\n",
       "<style scoped>\n",
       "    .dataframe tbody tr th:only-of-type {\n",
       "        vertical-align: middle;\n",
       "    }\n",
       "\n",
       "    .dataframe tbody tr th {\n",
       "        vertical-align: top;\n",
       "    }\n",
       "\n",
       "    .dataframe thead th {\n",
       "        text-align: right;\n",
       "    }\n",
       "</style>\n",
       "<table border=\"1\" class=\"dataframe\">\n",
       "  <thead>\n",
       "    <tr style=\"text-align: right;\">\n",
       "      <th></th>\n",
       "      <th>you</th>\n",
       "      <th>yourself</th>\n",
       "    </tr>\n",
       "  </thead>\n",
       "  <tbody>\n",
       "    <tr>\n",
       "      <th>0</th>\n",
       "      <td>0.000000</td>\n",
       "      <td>0.000000</td>\n",
       "    </tr>\n",
       "    <tr>\n",
       "      <th>1</th>\n",
       "      <td>0.312233</td>\n",
       "      <td>0.000000</td>\n",
       "    </tr>\n",
       "    <tr>\n",
       "      <th>2</th>\n",
       "      <td>0.000000</td>\n",
       "      <td>0.698254</td>\n",
       "    </tr>\n",
       "    <tr>\n",
       "      <th>3</th>\n",
       "      <td>0.000000</td>\n",
       "      <td>0.710980</td>\n",
       "    </tr>\n",
       "    <tr>\n",
       "      <th>4</th>\n",
       "      <td>0.000000</td>\n",
       "      <td>0.604955</td>\n",
       "    </tr>\n",
       "  </tbody>\n",
       "</table>\n",
       "</div>"
      ],
      "text/plain": [
       "        you  yourself\n",
       "0  0.000000  0.000000\n",
       "1  0.312233  0.000000\n",
       "2  0.000000  0.698254\n",
       "3  0.000000  0.710980\n",
       "4  0.000000  0.604955"
      ]
     },
     "execution_count": 22,
     "metadata": {},
     "output_type": "execute_result"
    }
   ],
   "source": [
    "tfidf = TfidfVectorizer()  # initializing tf-idf\n",
    "x_tfidf = tfidf.fit_transform(df['Normalized Context']).toarray()  # convert data into array\n",
    "\n",
    "features_tfidf = tfidf.get_feature_names_out() # use function to get all the normalized words\n",
    "df_tfidf = pd.DataFrame(x_tfidf, columns = features_tfidf)  # create dataframe to show word score for each word\n",
    "df_tfidf.loc[:,['you', 'yourself']].head()  # show only specific columns that are named you and yourself"
   ]
  },
  {
   "cell_type": "code",
   "execution_count": 23,
   "id": "339c2451",
   "metadata": {
    "execution": {
     "iopub.execute_input": "2023-02-21T10:34:12.514880Z",
     "iopub.status.busy": "2023-02-21T10:34:12.513866Z",
     "iopub.status.idle": "2023-02-21T10:34:12.520227Z",
     "shell.execute_reply": "2023-02-21T10:34:12.519059Z"
    },
    "papermill": {
     "duration": 0.022253,
     "end_time": "2023-02-21T10:34:12.522601",
     "exception": false,
     "start_time": "2023-02-21T10:34:12.500348",
     "status": "completed"
    },
    "tags": []
   },
   "outputs": [],
   "source": [
    "def chat_tfidf(question):\n",
    "    tidy_question = text_normalization(removeStopWords(question))  # clean & lemmatize the question\n",
    "    tf = tfidf.transform([tidy_question]).toarray()  # convert the question into a vector\n",
    "    cos = 1- pairwise_distances(df_tfidf, tf, metric = 'cosine')  # calculate the cosine value\n",
    "    index_value = cos.argmax()  # find the index of the maximum cosine value\n",
    "    return df['Text Response'].loc[index_value]  # use index to choose the reply from the Text Response feature(column)"
   ]
  },
  {
   "cell_type": "code",
   "execution_count": 24,
   "id": "4ac5098d",
   "metadata": {
    "execution": {
     "iopub.execute_input": "2023-02-21T10:34:12.549292Z",
     "iopub.status.busy": "2023-02-21T10:34:12.548897Z",
     "iopub.status.idle": "2023-02-21T10:34:13.320336Z",
     "shell.execute_reply": "2023-02-21T10:34:13.318810Z"
    },
    "papermill": {
     "duration": 0.789246,
     "end_time": "2023-02-21T10:34:13.324414",
     "exception": false,
     "start_time": "2023-02-21T10:34:12.535168",
     "status": "completed"
    },
    "tags": []
   },
   "outputs": [
    {
     "data": {
      "text/plain": [
       "'I can help you work smarter instead of harder'"
      ]
     },
     "execution_count": 24,
     "metadata": {},
     "output_type": "execute_result"
    }
   ],
   "source": [
    "# call the chat_tfidf function with the question as an argument\n",
    "chat_tfidf('Will you help me and tell me more about yourself?')"
   ]
  },
  {
   "cell_type": "markdown",
   "id": "dbb3e1ab",
   "metadata": {
    "papermill": {
     "duration": 0.031387,
     "end_time": "2023-02-21T10:34:13.387282",
     "exception": false,
     "start_time": "2023-02-21T10:34:13.355895",
     "status": "completed"
    },
    "tags": []
   },
   "source": [
    "## Sentiment Analysis"
   ]
  },
  {
   "cell_type": "markdown",
   "id": "ef979df4",
   "metadata": {
    "papermill": {
     "duration": 0.018907,
     "end_time": "2023-02-21T10:34:13.437849",
     "exception": false,
     "start_time": "2023-02-21T10:34:13.418942",
     "status": "completed"
    },
    "tags": []
   },
   "source": [
    "Use ***textblob*** for quick sentiment analysis - see references"
   ]
  },
  {
   "cell_type": "code",
   "execution_count": 26,
   "id": "cb1492e7",
   "metadata": {},
   "outputs": [
    {
     "name": "stdout",
     "output_type": "stream",
     "text": [
      "Collecting TextBlob\n",
      "  Downloading textblob-0.17.1-py2.py3-none-any.whl (636 kB)\n",
      "     -------------------------------------- 636.8/636.8 kB 4.0 MB/s eta 0:00:00\n",
      "Requirement already satisfied: nltk>=3.1 in c:\\users\\admin\\anaconda3\\lib\\site-packages (from TextBlob) (3.7)\n",
      "Requirement already satisfied: tqdm in c:\\users\\admin\\anaconda3\\lib\\site-packages (from nltk>=3.1->TextBlob) (4.64.1)\n",
      "Requirement already satisfied: regex>=2021.8.3 in c:\\users\\admin\\anaconda3\\lib\\site-packages (from nltk>=3.1->TextBlob) (2022.7.9)\n",
      "Requirement already satisfied: click in c:\\users\\admin\\anaconda3\\lib\\site-packages (from nltk>=3.1->TextBlob) (8.0.4)\n",
      "Requirement already satisfied: joblib in c:\\users\\admin\\anaconda3\\lib\\site-packages (from nltk>=3.1->TextBlob) (1.1.0)\n",
      "Requirement already satisfied: colorama in c:\\users\\admin\\anaconda3\\lib\\site-packages (from click->nltk>=3.1->TextBlob) (0.4.5)\n",
      "Installing collected packages: TextBlob\n",
      "Successfully installed TextBlob-0.17.1\n"
     ]
    }
   ],
   "source": [
    "!pip install TextBlob"
   ]
  },
  {
   "cell_type": "code",
   "execution_count": 27,
   "id": "3b0d662f",
   "metadata": {
    "execution": {
     "iopub.execute_input": "2023-02-21T10:34:13.464401Z",
     "iopub.status.busy": "2023-02-21T10:34:13.463983Z",
     "iopub.status.idle": "2023-02-21T10:34:13.578528Z",
     "shell.execute_reply": "2023-02-21T10:34:13.576864Z"
    },
    "papermill": {
     "duration": 0.131198,
     "end_time": "2023-02-21T10:34:13.581420",
     "exception": false,
     "start_time": "2023-02-21T10:34:13.450222",
     "status": "completed"
    },
    "tags": []
   },
   "outputs": [
    {
     "name": "stdout",
     "output_type": "stream",
     "text": [
      "polarity 0.7\n",
      "polarity -0.35\n"
     ]
    }
   ],
   "source": [
    "from textblob import TextBlob\n",
    "\n",
    "def senti(text):\n",
    "    blob = TextBlob(text)\n",
    "    return(blob.polarity)\n",
    "\n",
    "print(\"polarity\",senti(\"This is good\"))\n",
    "print(\"polarity\",senti(\"This is not good\"))"
   ]
  },
  {
   "cell_type": "markdown",
   "id": "600f103f",
   "metadata": {
    "papermill": {
     "duration": 0.012267,
     "end_time": "2023-02-21T10:34:13.606356",
     "exception": false,
     "start_time": "2023-02-21T10:34:13.594089",
     "status": "completed"
    },
    "tags": []
   },
   "source": [
    "## Create function to create a chatbot experience\n",
    "### ***While loop*** seems perfect for this task"
   ]
  },
  {
   "cell_type": "code",
   "execution_count": 28,
   "id": "a66a6c23",
   "metadata": {
    "execution": {
     "iopub.execute_input": "2023-02-21T10:34:13.633814Z",
     "iopub.status.busy": "2023-02-21T10:34:13.632952Z",
     "iopub.status.idle": "2023-02-21T10:34:13.640848Z",
     "shell.execute_reply": "2023-02-21T10:34:13.639916Z"
    },
    "papermill": {
     "duration": 0.024226,
     "end_time": "2023-02-21T10:34:13.643219",
     "exception": false,
     "start_time": "2023-02-21T10:34:13.618993",
     "status": "completed"
    },
    "tags": []
   },
   "outputs": [],
   "source": [
    "def chatbot(method):\n",
    "    exit_chatbot = False\n",
    "    first_loop = True\n",
    "\n",
    "    while exit_chatbot == False:\n",
    "        if (first_loop):\n",
    "            print(\"Welcome to the chatbot! Type q to close it, otherwise let's keep talking :)\")\n",
    "            first_loop = False\n",
    "        user_input_question = input(\"Your question:\")\n",
    "        \n",
    "        if(senti(user_input_question) < 0) : print(\"\\U0001F44E\")\n",
    "        else : print(\"\\U0001F44D\")\n",
    "            \n",
    "        if(user_input_question.lower() == 'q'): \n",
    "            exit_chatbot = True\n",
    "            print(\"Thank you for your time and see you around!\")\n",
    "        else :\n",
    "            if (method == 'bow') : print('Chatbot answer: ', chat_bow(user_input_question))\n",
    "            elif (method == 'tfidf') : print('Chatbot answer: ', chat_tfidf(user_input_question))\n",
    "            "
   ]
  },
  {
   "cell_type": "markdown",
   "id": "17bdf7f8",
   "metadata": {
    "papermill": {
     "duration": 0.012379,
     "end_time": "2023-02-21T10:34:13.668138",
     "exception": false,
     "start_time": "2023-02-21T10:34:13.655759",
     "status": "completed"
    },
    "tags": []
   },
   "source": [
    "# ChatBot\n",
    "## Call the chatbot with either Bag of Words or Tf-Idf methods\n",
    "### Uncomment the lines and run the cell when you feel ready"
   ]
  },
  {
   "cell_type": "code",
   "execution_count": null,
   "id": "901b2a79",
   "metadata": {
    "execution": {
     "iopub.execute_input": "2023-02-21T10:34:13.695302Z",
     "iopub.status.busy": "2023-02-21T10:34:13.694564Z",
     "iopub.status.idle": "2023-02-21T10:34:13.698313Z",
     "shell.execute_reply": "2023-02-21T10:34:13.697561Z"
    },
    "papermill": {
     "duration": 0.019741,
     "end_time": "2023-02-21T10:34:13.700437",
     "exception": false,
     "start_time": "2023-02-21T10:34:13.680696",
     "status": "completed"
    },
    "tags": []
   },
   "outputs": [
    {
     "name": "stdout",
     "output_type": "stream",
     "text": [
      "Welcome to the chatbot! Type q to close it, otherwise let's keep talking :)\n",
      "Your question:I want to know you better\n",
      "👍\n",
      "Chatbot answer:  I can help you work smarter instead of harder\n"
     ]
    }
   ],
   "source": [
    " chatbot('bow')  # start the chatbot based on the bag of words method\n",
    "\n",
    "# chatbot('tfidf')  # start the chatbot based on the tf-idf method"
   ]
  },
  {
   "cell_type": "markdown",
   "id": "de24c101",
   "metadata": {
    "papermill": {
     "duration": 0.012665,
     "end_time": "2023-02-21T10:34:13.725704",
     "exception": false,
     "start_time": "2023-02-21T10:34:13.713039",
     "status": "completed"
    },
    "tags": []
   },
   "source": [
    "# Conclusion\n",
    "Both Bag of Words and TF-IDF methods had comparable if not the same results given the available datasets.\n",
    "\n",
    "Creating this chatbot was fun, I was able to enhance the main idea outlined in the tutorial.\n",
    "\n",
    "Despite combining two datasets, still having a more complete dataset would be greatly beneficial, also using AI like natural networks might yield better results."
   ]
  },
  {
   "cell_type": "code",
   "execution_count": null,
   "id": "f63f510d",
   "metadata": {},
   "outputs": [],
   "source": []
  },
  {
   "cell_type": "code",
   "execution_count": null,
   "id": "4bb8363b",
   "metadata": {},
   "outputs": [],
   "source": []
  },
  {
   "cell_type": "code",
   "execution_count": null,
   "id": "b3ae867b",
   "metadata": {},
   "outputs": [],
   "source": []
  },
  {
   "cell_type": "code",
   "execution_count": null,
   "id": "fb9da8db",
   "metadata": {},
   "outputs": [],
   "source": []
  }
 ],
 "metadata": {
  "kernelspec": {
   "display_name": "Python 3 (ipykernel)",
   "language": "python",
   "name": "python3"
  },
  "language_info": {
   "codemirror_mode": {
    "name": "ipython",
    "version": 3
   },
   "file_extension": ".py",
   "mimetype": "text/x-python",
   "name": "python",
   "nbconvert_exporter": "python",
   "pygments_lexer": "ipython3",
   "version": "3.9.13"
  },
  "papermill": {
   "default_parameters": {},
   "duration": 31.017679,
   "end_time": "2023-02-21T10:34:15.011717",
   "environment_variables": {},
   "exception": null,
   "input_path": "__notebook__.ipynb",
   "output_path": "__notebook__.ipynb",
   "parameters": {},
   "start_time": "2023-02-21T10:33:43.994038",
   "version": "2.3.4"
  }
 },
 "nbformat": 4,
 "nbformat_minor": 5
}
